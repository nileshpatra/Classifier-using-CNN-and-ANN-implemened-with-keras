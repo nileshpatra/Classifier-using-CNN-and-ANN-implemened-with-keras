{
 "cells": [
  {
   "cell_type": "code",
   "execution_count": 1,
   "metadata": {},
   "outputs": [
    {
     "name": "stderr",
     "output_type": "stream",
     "text": [
      "Using TensorFlow backend.\n"
     ]
    }
   ],
   "source": [
    "from keras.models import Sequential\n",
    "from keras.layers import Dense , Flatten , Convolution2D , MaxPooling2D"
   ]
  },
  {
   "cell_type": "code",
   "execution_count": 2,
   "metadata": {},
   "outputs": [],
   "source": [
    "classifier = Sequential()"
   ]
  },
  {
   "cell_type": "code",
   "execution_count": 3,
   "metadata": {},
   "outputs": [
    {
     "name": "stderr",
     "output_type": "stream",
     "text": [
      "/home/nilesh/anaconda3/lib/python3.6/site-packages/ipykernel_launcher.py:1: UserWarning: Update your `Conv2D` call to the Keras 2 API: `Conv2D(32, (3, 3), input_shape=(64, 64, 3..., activation=\"relu\")`\n",
      "  \"\"\"Entry point for launching an IPython kernel.\n"
     ]
    }
   ],
   "source": [
    "classifier.add(Convolution2D(32 ,3 , 3 , input_shape = (64,64,3) , activation = 'relu'))"
   ]
  },
  {
   "cell_type": "code",
   "execution_count": 4,
   "metadata": {},
   "outputs": [],
   "source": [
    "classifier.add(MaxPooling2D(pool_size=(2,2)))"
   ]
  },
  {
   "cell_type": "code",
   "execution_count": 5,
   "metadata": {},
   "outputs": [],
   "source": [
    "classifier.add(Flatten())"
   ]
  },
  {
   "cell_type": "code",
   "execution_count": 6,
   "metadata": {},
   "outputs": [],
   "source": [
    "classifier.add(Dense(units = 128 , activation = 'relu'))"
   ]
  },
  {
   "cell_type": "code",
   "execution_count": 7,
   "metadata": {},
   "outputs": [],
   "source": [
    "classifier.add(Dense(units = 1 , activation = 'sigmoid'))"
   ]
  },
  {
   "cell_type": "code",
   "execution_count": 8,
   "metadata": {},
   "outputs": [],
   "source": [
    "classifier.compile(optimizer = 'adam' , loss = 'binary_crossentropy' , metrics=['accuracy'])"
   ]
  },
  {
   "cell_type": "code",
   "execution_count": 9,
   "metadata": {},
   "outputs": [],
   "source": [
    "from keras.preprocessing.image import ImageDataGenerator"
   ]
  },
  {
   "cell_type": "code",
   "execution_count": 10,
   "metadata": {},
   "outputs": [],
   "source": [
    "train_datagen = ImageDataGenerator(\n",
    "rescale = 1./255,\n",
    "shear_range = 0.2,\n",
    "zoom_range=0.2 ,\n",
    "horizontal_flip=True)"
   ]
  },
  {
   "cell_type": "code",
   "execution_count": 11,
   "metadata": {},
   "outputs": [],
   "source": [
    "test_datagen = ImageDataGenerator(rescale=1./255)"
   ]
  },
  {
   "cell_type": "code",
   "execution_count": 12,
   "metadata": {},
   "outputs": [
    {
     "name": "stdout",
     "output_type": "stream",
     "text": [
      "Found 8000 images belonging to 2 classes.\n"
     ]
    }
   ],
   "source": [
    "xtrain = train_datagen.flow_from_directory('/home/nilesh/Desktop/MY FILES/DEEP LEARNING COURSE/3. Convolutional_Neural_Networks/Convolutional_Neural_Networks/dataset/training_set'\n",
    "                                          , target_size = (64,64),\n",
    "                                          batch_size = 32 ,\n",
    "                                          class_mode = 'binary'\n",
    "                                        )"
   ]
  },
  {
   "cell_type": "code",
   "execution_count": 13,
   "metadata": {},
   "outputs": [
    {
     "name": "stdout",
     "output_type": "stream",
     "text": [
      "Found 2000 images belonging to 2 classes.\n"
     ]
    }
   ],
   "source": [
    "xtest = train_datagen.flow_from_directory('/home/nilesh/Desktop/MY FILES/DEEP LEARNING COURSE/3. Convolutional_Neural_Networks/Convolutional_Neural_Networks/dataset/test_set'\n",
    "                                          , target_size = (64,64),\n",
    "                                          batch_size = 32 ,\n",
    "                                          class_mode = 'binary'\n",
    "                                        )"
   ]
  },
  {
   "cell_type": "code",
   "execution_count": 14,
   "metadata": {},
   "outputs": [
    {
     "name": "stderr",
     "output_type": "stream",
     "text": [
      "/home/nilesh/anaconda3/lib/python3.6/site-packages/ipykernel_launcher.py:5: UserWarning: The semantics of the Keras 2 argument `steps_per_epoch` is not the same as the Keras 1 argument `samples_per_epoch`. `steps_per_epoch` is the number of batches to draw from the generator at each epoch. Basically steps_per_epoch = samples_per_epoch/batch_size. Similarly `nb_val_samples`->`validation_steps` and `val_samples`->`steps` arguments have changed. Update your method calls accordingly.\n",
      "  \"\"\"\n",
      "/home/nilesh/anaconda3/lib/python3.6/site-packages/ipykernel_launcher.py:5: UserWarning: Update your `fit_generator` call to the Keras 2 API: `fit_generator(<keras_pre..., epochs=10, validation_data=<keras_pre..., steps_per_epoch=250, validation_steps=2000)`\n",
      "  \"\"\"\n"
     ]
    },
    {
     "name": "stdout",
     "output_type": "stream",
     "text": [
      "Epoch 1/10\n",
      "250/250 [==============================] - 419s 2s/step - loss: 0.7079 - acc: 0.5663 - val_loss: 0.6353 - val_acc: 0.6511\n",
      "Epoch 2/10\n",
      "250/250 [==============================] - 304s 1s/step - loss: 0.6231 - acc: 0.6542 - val_loss: 0.6244 - val_acc: 0.6485\n",
      "Epoch 3/10\n",
      "250/250 [==============================] - 305s 1s/step - loss: 0.5841 - acc: 0.6979 - val_loss: 0.5804 - val_acc: 0.7010\n",
      "Epoch 4/10\n",
      "250/250 [==============================] - 305s 1s/step - loss: 0.5652 - acc: 0.7086 - val_loss: 0.6264 - val_acc: 0.6505\n",
      "Epoch 5/10\n",
      "250/250 [==============================] - 311s 1s/step - loss: 0.5460 - acc: 0.7200 - val_loss: 0.5792 - val_acc: 0.7071\n",
      "Epoch 6/10\n",
      "250/250 [==============================] - 306s 1s/step - loss: 0.5247 - acc: 0.7444 - val_loss: 0.5614 - val_acc: 0.7181\n",
      "Epoch 7/10\n",
      "250/250 [==============================] - 301s 1s/step - loss: 0.5175 - acc: 0.7462 - val_loss: 0.5452 - val_acc: 0.7254\n",
      "Epoch 8/10\n",
      "250/250 [==============================] - 302s 1s/step - loss: 0.5033 - acc: 0.7519 - val_loss: 0.5252 - val_acc: 0.7392\n",
      "Epoch 9/10\n",
      "250/250 [==============================] - 306s 1s/step - loss: 0.4911 - acc: 0.7637 - val_loss: 0.5171 - val_acc: 0.7480\n",
      "Epoch 10/10\n",
      "250/250 [==============================] - 304s 1s/step - loss: 0.4851 - acc: 0.7678 - val_loss: 0.5214 - val_acc: 0.7481\n"
     ]
    },
    {
     "data": {
      "text/plain": [
       "<keras.callbacks.History at 0x7f178875e470>"
      ]
     },
     "execution_count": 14,
     "metadata": {},
     "output_type": "execute_result"
    }
   ],
   "source": [
    "classifier.fit_generator(xtrain , \n",
    "                        samples_per_epoch = 8000,\n",
    "                        epochs = 10,\n",
    "                        validation_data = xtest,\n",
    "                        nb_val_samples = 2000\n",
    "                        )"
   ]
  },
  {
   "cell_type": "code",
   "execution_count": 15,
   "metadata": {},
   "outputs": [
    {
     "data": {
      "text/plain": [
       "{'cats': 0, 'dogs': 1}"
      ]
     },
     "execution_count": 15,
     "metadata": {},
     "output_type": "execute_result"
    }
   ],
   "source": [
    "xtrain.class_indices"
   ]
  },
  {
   "cell_type": "code",
   "execution_count": 19,
   "metadata": {},
   "outputs": [
    {
     "name": "stdout",
     "output_type": "stream",
     "text": [
      "dog\n"
     ]
    }
   ],
   "source": [
    "import numpy as np\n",
    "from keras.preprocessing import image\n",
    "test_image1 = image.load_img('/home/nilesh/Desktop/MY FILES/DEEP LEARNING COURSE/3. Convolutional_Neural_Networks/Convolutional_Neural_Networks/dataset/single_prediction/cat_or_dog_1.jpg', target_size = (64, 64))\n",
    "test_image1 = image.img_to_array(test_image1)\n",
    "test_image1 = np.expand_dims(test_image1, axis = 0)\n",
    "result = classifier.predict(test_image1)\n",
    "if result[0][0] == 1:\n",
    "    prediction = 'dog'\n",
    "else:\n",
    "    prediction = 'cat'\n",
    "print(prediction)"
   ]
  }
 ],
 "metadata": {
  "kernelspec": {
   "display_name": "Python 3",
   "language": "python",
   "name": "python3"
  },
  "language_info": {
   "codemirror_mode": {
    "name": "ipython",
    "version": 3
   },
   "file_extension": ".py",
   "mimetype": "text/x-python",
   "name": "python",
   "nbconvert_exporter": "python",
   "pygments_lexer": "ipython3",
   "version": "3.6.6"
  }
 },
 "nbformat": 4,
 "nbformat_minor": 2
}
